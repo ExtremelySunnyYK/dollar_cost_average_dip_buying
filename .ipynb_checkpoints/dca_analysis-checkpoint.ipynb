{
 "cells": [
  {
   "cell_type": "markdown",
   "metadata": {},
   "source": [
    "## Notebook to test out different DCA strategies\n",
    "\n",
    "Ways to optimise getting into crypto minimising risk and maximising profit\n",
    "\n",
    "- Regular Dollar Cost averaging\n",
    "- Inversely proportional to the crypto fear and greed index\n",
    "- Exponentially decreasing with price increase\n",
    "- Proportional to RSI\n",
    "- Inversely proportional to stock to flow"
   ]
  },
  {
   "cell_type": "code",
   "execution_count": 1,
   "metadata": {},
   "outputs": [],
   "source": [
    "import json\n",
    "import traceback\n",
    "import ccxt\n",
    "from datetime import datetime, timedelta\n",
    "import time\n",
    "import pytz\n",
    "from datetime import timedelta\n",
    "from tqdm.auto import tqdm\n",
    "import matplotlib.pyplot as plt\n",
    "import pandas as pd\n",
    "import numpy as np"
   ]
  },
  {
   "cell_type": "code",
   "execution_count": 2,
   "metadata": {},
   "outputs": [],
   "source": [
    "# Using binance for now\n",
    "exchange = ccxt.binance({})"
   ]
  },
  {
   "cell_type": "code",
   "execution_count": 125,
   "metadata": {},
   "outputs": [],
   "source": [
    "# Get tickers for coins you want to buy\n",
    "btc = 'BTC/USDT'\n",
    "eth = 'ETH/USDT'\n",
    "link = 'LINK/USDT'\n",
    "sol = 'SOL/USDT'\n",
    "ada = 'ADA/USDT'\n",
    "dot = 'DOT/USDT'\n",
    "luna = 'LUNA/USDT'\n",
    "uni = 'UNI/USDT'\n",
    "sushi = 'SUSHI/USDT'\n",
    "ftt = 'FTT/USDT'\n",
    "\n",
    "all_tickers = {'btc':{'ticker':btc}, \n",
    "               'eth':{'ticker':eth}, \n",
    "              'link':{'ticker':link}, \n",
    "               'sol':{'ticker':sol}, \n",
    "               'ada':{'ticker':ada}, \n",
    "               'dot':{'ticker':dot}, \n",
    "              'luna':{'ticker':luna}, \n",
    "               'uni':{'ticker':uni}, \n",
    "             'sushi':{'ticker':sushi}, \n",
    "               'ftt':{'ticker':ftt}, }\n",
    "\n",
    "# Get 3 years of historical data\n",
    "start_date = datetime.now() - timedelta(days=365*4)\n",
    "start_timestamp = round(start_date.timestamp() * 1000)"
   ]
  },
  {
   "cell_type": "code",
   "execution_count": 4,
   "metadata": {},
   "outputs": [],
   "source": [
    "# Convert data from binance to pandas df\n",
    "def convert_pandas(data):\n",
    "    header = ['timestamp', 'open', 'high', 'low', 'close', 'volume']\n",
    "    df = pd.DataFrame(data, columns=header).set_index('timestamp')\n",
    "    df.index = df.index.map(lambda x : datetime.fromtimestamp(round(x/1000)))\n",
    "    return df\n",
    "\n",
    "# Convert a datetime to the local timezone\n",
    "def convert_timezone(dt,from_tz=pytz.timezone('UTC'),to_tz=pytz.timezone('Europe/London')):\n",
    "    utc_dt = dt.replace(tzinfo=from_tz)\n",
    "    return utc_dt.astimezone(to_tz)\n",
    "\n",
    "# Get the data from a ticker since it's earliest interval to present\n",
    "def fetch_data(ticker, since, until=datetime.now(), interval='1d'):\n",
    "    \n",
    "    week_data = exchange.fetch_ohlcv(ticker,'1w')\n",
    "    since = max(since,week_data[0][0])\n",
    "    data = exchange.fetch_ohlcv(ticker, interval, since=since)\n",
    "    \n",
    "    while data and datetime.fromtimestamp(data[-1][0]/1000) < until - timedelta(days=1):\n",
    "        data += exchange.fetch_ohlcv(ticker, interval, since=data[-1][0])[1:]\n",
    "        \n",
    "    return data  "
   ]
  },
  {
   "cell_type": "code",
   "execution_count": 126,
   "metadata": {},
   "outputs": [],
   "source": [
    "for k,v in all_tickers.items():\n",
    "    all_tickers[k]['data'] = fetch_data(v['ticker'], start_timestamp)    \n",
    "    break"
   ]
  },
  {
   "cell_type": "code",
   "execution_count": 127,
   "metadata": {},
   "outputs": [],
   "source": [
    "for k in all_tickers:\n",
    "    all_tickers[k]['df'] = convert_pandas(all_tickers[k]['data'])\n",
    "    break"
   ]
  },
  {
   "cell_type": "code",
   "execution_count": 129,
   "metadata": {},
   "outputs": [],
   "source": [
    "data_df = pd.DataFrame()\n",
    "for coin in all_tickers:\n",
    "    temp_df = all_tickers[coin]['df']\n",
    "    temp_df['ticker'] = coin\n",
    "    data_df = data_df.append(temp_df)\n",
    "    break"
   ]
  },
  {
   "cell_type": "code",
   "execution_count": 130,
   "metadata": {
    "scrolled": true
   },
   "outputs": [
    {
     "data": {
      "text/html": [
       "<div>\n",
       "<style scoped>\n",
       "    .dataframe tbody tr th:only-of-type {\n",
       "        vertical-align: middle;\n",
       "    }\n",
       "\n",
       "    .dataframe tbody tr th {\n",
       "        vertical-align: top;\n",
       "    }\n",
       "\n",
       "    .dataframe thead th {\n",
       "        text-align: right;\n",
       "    }\n",
       "</style>\n",
       "<table border=\"1\" class=\"dataframe\">\n",
       "  <thead>\n",
       "    <tr style=\"text-align: right;\">\n",
       "      <th></th>\n",
       "      <th>open</th>\n",
       "      <th>high</th>\n",
       "      <th>low</th>\n",
       "      <th>close</th>\n",
       "      <th>volume</th>\n",
       "      <th>ticker</th>\n",
       "    </tr>\n",
       "    <tr>\n",
       "      <th>timestamp</th>\n",
       "      <th></th>\n",
       "      <th></th>\n",
       "      <th></th>\n",
       "      <th></th>\n",
       "      <th></th>\n",
       "      <th></th>\n",
       "    </tr>\n",
       "  </thead>\n",
       "  <tbody>\n",
       "    <tr>\n",
       "      <th>2017-08-17 01:00:00</th>\n",
       "      <td>4261.48</td>\n",
       "      <td>4485.39</td>\n",
       "      <td>4200.74</td>\n",
       "      <td>4285.08</td>\n",
       "      <td>795.150377</td>\n",
       "      <td>btc</td>\n",
       "    </tr>\n",
       "    <tr>\n",
       "      <th>2017-08-18 01:00:00</th>\n",
       "      <td>4285.08</td>\n",
       "      <td>4371.52</td>\n",
       "      <td>3938.77</td>\n",
       "      <td>4108.37</td>\n",
       "      <td>1199.888264</td>\n",
       "      <td>btc</td>\n",
       "    </tr>\n",
       "    <tr>\n",
       "      <th>2017-08-19 01:00:00</th>\n",
       "      <td>4108.37</td>\n",
       "      <td>4184.69</td>\n",
       "      <td>3850.00</td>\n",
       "      <td>4139.98</td>\n",
       "      <td>381.309763</td>\n",
       "      <td>btc</td>\n",
       "    </tr>\n",
       "    <tr>\n",
       "      <th>2017-08-20 01:00:00</th>\n",
       "      <td>4120.98</td>\n",
       "      <td>4211.08</td>\n",
       "      <td>4032.62</td>\n",
       "      <td>4086.29</td>\n",
       "      <td>467.083022</td>\n",
       "      <td>btc</td>\n",
       "    </tr>\n",
       "    <tr>\n",
       "      <th>2017-08-21 01:00:00</th>\n",
       "      <td>4069.13</td>\n",
       "      <td>4119.62</td>\n",
       "      <td>3911.79</td>\n",
       "      <td>4016.00</td>\n",
       "      <td>691.743060</td>\n",
       "      <td>btc</td>\n",
       "    </tr>\n",
       "    <tr>\n",
       "      <th>...</th>\n",
       "      <td>...</td>\n",
       "      <td>...</td>\n",
       "      <td>...</td>\n",
       "      <td>...</td>\n",
       "      <td>...</td>\n",
       "      <td>...</td>\n",
       "    </tr>\n",
       "    <tr>\n",
       "      <th>2021-08-05 01:00:00</th>\n",
       "      <td>39723.17</td>\n",
       "      <td>41350.00</td>\n",
       "      <td>37332.70</td>\n",
       "      <td>40862.46</td>\n",
       "      <td>84343.755621</td>\n",
       "      <td>btc</td>\n",
       "    </tr>\n",
       "    <tr>\n",
       "      <th>2021-08-06 01:00:00</th>\n",
       "      <td>40862.46</td>\n",
       "      <td>43392.43</td>\n",
       "      <td>39853.86</td>\n",
       "      <td>42836.87</td>\n",
       "      <td>75753.941347</td>\n",
       "      <td>btc</td>\n",
       "    </tr>\n",
       "    <tr>\n",
       "      <th>2021-08-07 01:00:00</th>\n",
       "      <td>42836.87</td>\n",
       "      <td>44700.00</td>\n",
       "      <td>42446.41</td>\n",
       "      <td>44572.54</td>\n",
       "      <td>73396.740808</td>\n",
       "      <td>btc</td>\n",
       "    </tr>\n",
       "    <tr>\n",
       "      <th>2021-08-08 01:00:00</th>\n",
       "      <td>44572.54</td>\n",
       "      <td>45310.00</td>\n",
       "      <td>43261.00</td>\n",
       "      <td>43794.37</td>\n",
       "      <td>69329.092698</td>\n",
       "      <td>btc</td>\n",
       "    </tr>\n",
       "    <tr>\n",
       "      <th>2021-08-09 01:00:00</th>\n",
       "      <td>43794.36</td>\n",
       "      <td>45850.00</td>\n",
       "      <td>42779.00</td>\n",
       "      <td>45569.02</td>\n",
       "      <td>31963.333704</td>\n",
       "      <td>btc</td>\n",
       "    </tr>\n",
       "  </tbody>\n",
       "</table>\n",
       "<p>1454 rows × 6 columns</p>\n",
       "</div>"
      ],
      "text/plain": [
       "                         open      high       low     close        volume  \\\n",
       "timestamp                                                                   \n",
       "2017-08-17 01:00:00   4261.48   4485.39   4200.74   4285.08    795.150377   \n",
       "2017-08-18 01:00:00   4285.08   4371.52   3938.77   4108.37   1199.888264   \n",
       "2017-08-19 01:00:00   4108.37   4184.69   3850.00   4139.98    381.309763   \n",
       "2017-08-20 01:00:00   4120.98   4211.08   4032.62   4086.29    467.083022   \n",
       "2017-08-21 01:00:00   4069.13   4119.62   3911.79   4016.00    691.743060   \n",
       "...                       ...       ...       ...       ...           ...   \n",
       "2021-08-05 01:00:00  39723.17  41350.00  37332.70  40862.46  84343.755621   \n",
       "2021-08-06 01:00:00  40862.46  43392.43  39853.86  42836.87  75753.941347   \n",
       "2021-08-07 01:00:00  42836.87  44700.00  42446.41  44572.54  73396.740808   \n",
       "2021-08-08 01:00:00  44572.54  45310.00  43261.00  43794.37  69329.092698   \n",
       "2021-08-09 01:00:00  43794.36  45850.00  42779.00  45569.02  31963.333704   \n",
       "\n",
       "                    ticker  \n",
       "timestamp                   \n",
       "2017-08-17 01:00:00    btc  \n",
       "2017-08-18 01:00:00    btc  \n",
       "2017-08-19 01:00:00    btc  \n",
       "2017-08-20 01:00:00    btc  \n",
       "2017-08-21 01:00:00    btc  \n",
       "...                    ...  \n",
       "2021-08-05 01:00:00    btc  \n",
       "2021-08-06 01:00:00    btc  \n",
       "2021-08-07 01:00:00    btc  \n",
       "2021-08-08 01:00:00    btc  \n",
       "2021-08-09 01:00:00    btc  \n",
       "\n",
       "[1454 rows x 6 columns]"
      ]
     },
     "execution_count": 130,
     "metadata": {},
     "output_type": "execute_result"
    }
   ],
   "source": [
    "data_df"
   ]
  },
  {
   "cell_type": "code",
   "execution_count": 131,
   "metadata": {},
   "outputs": [
    {
     "data": {
      "text/plain": [
       "10"
      ]
     },
     "execution_count": 131,
     "metadata": {},
     "output_type": "execute_result"
    }
   ],
   "source": [
    "len(all_tickers)"
   ]
  },
  {
   "cell_type": "code",
   "execution_count": 132,
   "metadata": {
    "scrolled": false
   },
   "outputs": [
    {
     "data": {
      "image/png": "[encoded data removed]",
      "text/plain": [
       "<Figure size 1008x720 with 10 Axes>"
      ]
     },
     "metadata": {
      "needs_background": "light"
     },
     "output_type": "display_data"
    }
   ],
   "source": [
    "# Plot the individual charts for the coins to dca\n",
    "\n",
    "fig, ax = plt.subplots(5,2, figsize=(14,10))\n",
    "for i, ticker in enumerate(all_tickers):\n",
    "    row, col = i//2, i%2\n",
    "    ax[row, col].plot(data_df[data_df.ticker == ticker].close)\n",
    "    ax[row, col].set_title(ticker.upper())\n",
    "    ax[row, col].grid()\n",
    "    \n",
    "    every_nth = 2\n",
    "    for n, label in enumerate(ax[row,col].xaxis.get_ticklabels()):\n",
    "        if n % every_nth != 0:\n",
    "            label.set_visible(False)\n",
    "\n",
    "fig.tight_layout()\n",
    "plt.show()"
   ]
  },
  {
   "cell_type": "code",
   "execution_count": 133,
   "metadata": {
    "scrolled": false
   },
   "outputs": [],
   "source": [
    "# Scale the df so we can look at the charts together\n",
    "scaled_df = data_df\n",
    "scaled_df['avg'] = data_df.groupby('ticker')['close'].transform('mean')\n",
    "scaled_df['scaled'] = scaled_df.close / scaled_df.avg"
   ]
  },
  {
   "cell_type": "code",
   "execution_count": 134,
   "metadata": {
    "scrolled": false
   },
   "outputs": [
    {
     "data": {
      "image/png": "[encoded data removed]",
      "text/plain": [
       "<Figure size 936x360 with 1 Axes>"
      ]
     },
     "metadata": {
      "needs_background": "light"
     },
     "output_type": "display_data"
    }
   ],
   "source": [
    "fig = plt.figure(figsize=(13,5))\n",
    "\n",
    "scaled_df.groupby('ticker')['scaled'].plot(legend=True, linewidth=0.8)\n",
    "\n",
    "plt.title('Price chart of DCA coins')\n",
    "plt.grid()\n",
    "plt.xlabel('Date')\n",
    "plt.ylabel('Relative scale')\n",
    "plt.show()"
   ]
  },
  {
   "cell_type": "code",
   "execution_count": 135,
   "metadata": {},
   "outputs": [
    {
     "data": {
      "image/png": "[encoded data removed]",
      "text/plain": [
       "<Figure size 936x360 with 1 Axes>"
      ]
     },
     "metadata": {
      "needs_background": "light"
     },
     "output_type": "display_data"
    }
   ],
   "source": [
    "fig = plt.figure(figsize=(13,5))\n",
    "\n",
    "scaled_df.groupby('ticker')['scaled'].plot(legend=True, logy=True, linewidth=0.8)\n",
    "\n",
    "plt.title('Log scale charts')\n",
    "plt.grid()\n",
    "plt.xlabel('Date')\n",
    "plt.ylabel('Relative scale (log)')\n",
    "plt.show()"
   ]
  },
  {
   "cell_type": "markdown",
   "metadata": {},
   "source": [
    "## The DCA Testing chart"
   ]
  },
  {
   "cell_type": "code",
   "execution_count": 136,
   "metadata": {},
   "outputs": [],
   "source": [
    "# DCA which gives you the total amount invested over a time period and the average price you would have got\n",
    "class DCA:\n",
    "    def __init__(self, total, df, since=datetime.now() - timedelta(days=365*3)):\n",
    "        self.total = total\n",
    "        self.since=since\n",
    "        self.df = df\n",
    "    \n",
    "    def weighting(self):\n",
    "        pass\n",
    "            \n",
    "    # Run the dca strategy with the parameters entered\n",
    "    def get_average(self, dollar_amount, freq, ticker):\n",
    "        amounts, volumes, spent, break_flag = [], [], 0, False\n",
    "        \n",
    "        for i, row in enumerate(self.df[self.df.index > self.since].iterrows()):\n",
    "            if i % freq == 0:\n",
    "                volumes.append(dollar_amount / row[1].open)\n",
    "                amounts.append(1 * row[1].open)\n",
    "                spent += dollar_amount\n",
    "                \n",
    "            if spent >= self.total:\n",
    "                print('Maximum %.2f invested on: %s' % (spent, row[0].strftime('%b %d %y')))\n",
    "                break_flag = True\n",
    "                break\n",
    "            \n",
    "        avg_price = sum(amounts) / len(amounts)\n",
    "        print('DCA Price: $%.6f' % (avg_price))\n",
    "        print('Spent:     $%.2f' % (spent))\n",
    "        print('Leftover:  $%.2f' % (self.total - spent))\n",
    "        print('Made:      $%.2f' % (sum(volumes) * (row[1].open - avg_price)))\n",
    "        print('Amount:    %.6f %s\\n\\n' % (sum(volumes), ticker.upper()))\n",
    "        return volumes\n",
    "            \n",
    "    def get_length(self):\n",
    "        pass\n"
   ]
  },
  {
   "cell_type": "code",
   "execution_count": 138,
   "metadata": {
    "scrolled": true
   },
   "outputs": [
    {
     "name": "stdout",
     "output_type": "stream",
     "text": [
      "BTC\n",
      "DCA Price: $15771.898174\n",
      "Spent:     $10950.00\n",
      "Leftover:  $89050.00\n",
      "Made:      $35574.79\n",
      "Amount:    1.269510 BTC\n",
      "\n",
      "\n"
     ]
    }
   ],
   "source": [
    "params = {\n",
    "          'amount':   100000,\n",
    "          'freq_d':   1,\n",
    "         }\n",
    "\n",
    "for ticker in all_tickers:\n",
    "    \n",
    "    print(ticker.upper())\n",
    "    this_df = data_df[data_df.ticker==ticker]\n",
    " \n",
    "    my_dca = DCA(params['amount'], this_df)\n",
    "    vols = my_dca.get_average(10, params['freq_d'], ticker)\n",
    "    break"
   ]
  },
  {
   "cell_type": "code",
   "execution_count": 139,
   "metadata": {},
   "outputs": [
    {
     "data": {
      "text/plain": [
       "True"
      ]
     },
     "execution_count": 139,
     "metadata": {},
     "output_type": "execute_result"
    }
   ],
   "source": [
    "datetime.now().date() == pre.date()"
   ]
  },
  {
   "cell_type": "code",
   "execution_count": 140,
   "metadata": {},
   "outputs": [
    {
     "name": "stdout",
     "output_type": "stream",
     "text": [
      "2021-08-09 11:09:20.649086\n",
      "False\n",
      "True\n",
      "ni\n"
     ]
    }
   ],
   "source": [
    "fg_pull = datetime.now() - timedelta(hours=1)\n",
    "\n",
    "print(  fg_pull  )\n",
    "print(  fg_pull.date() < datetime.now().date()  )\n",
    "print(  datetime.now().hour >= 1  )\n",
    "\n",
    "if fg_pull is None or (fg_pull.date() < datetime.now().date() and datetime.now().hour >= 1) or (\n",
    "    fg_pull.date() == datetime.now().date() and fg_pull.hour < 1 and datetime.now().hour >= 1 ):\n",
    "    \n",
    "    \n",
    "    print('hi')\n",
    "else:\n",
    "    print('ni')"
   ]
  },
  {
   "cell_type": "markdown",
   "metadata": {},
   "source": [
    "## New heading"
   ]
  },
  {
   "cell_type": "markdown",
   "metadata": {},
   "source": [
    "## Fear and Greed index weighting"
   ]
  },
  {
   "cell_type": "code",
   "execution_count": 141,
   "metadata": {},
   "outputs": [],
   "source": [
    "import requests \n",
    "import ast"
   ]
  },
  {
   "cell_type": "code",
   "execution_count": 142,
   "metadata": {},
   "outputs": [],
   "source": [
    "# TOEDIT # Returned much quicker due to caching, check and test headers with this"
   ]
  },
  {
   "cell_type": "code",
   "execution_count": 147,
   "metadata": {},
   "outputs": [],
   "source": [
    "endpoint = 'https://api.alternative.me/fng/?limit=3000&format=json&date_format=uk'\n",
    "# endpoint = 'https://api.alternative.me/fng'\n",
    "fg_data =  requests.get(endpoint).json()"
   ]
  },
  {
   "cell_type": "code",
   "execution_count": 81,
   "metadata": {},
   "outputs": [],
   "source": [
    "endpoint_individual = 'https://api.alternative.me/fng/?format=json&date_format=uk'\n",
    "fg_data_individual = requests.get(endpoint_individual).json()"
   ]
  },
  {
   "cell_type": "code",
   "execution_count": 148,
   "metadata": {},
   "outputs": [
    {
     "data": {
      "text/plain": [
       "{'value': '74',\n",
       " 'value_classification': 'Greed',\n",
       " 'timestamp': '08-08-2021',\n",
       " 'time_until_update': '-1628376151'}"
      ]
     },
     "execution_count": 148,
     "metadata": {},
     "output_type": "execute_result"
    }
   ],
   "source": [
    "fg_data_individual['data'][0]"
   ]
  },
  {
   "cell_type": "code",
   "execution_count": 149,
   "metadata": {},
   "outputs": [],
   "source": [
    "fg_values = pd.DataFrame()\n",
    "fg_values['fear_greed'] = [int(x['value']) for x in fg_data['data']]\n",
    "fg_values.index = [x['timestamp'] for x in fg_data['data']]\n",
    "fg_values.index = pd.to_datetime(fg_values.index, dayfirst=True)"
   ]
  },
  {
   "cell_type": "code",
   "execution_count": 150,
   "metadata": {},
   "outputs": [
    {
     "data": {
      "text/html": [
       "<div>\n",
       "<style scoped>\n",
       "    .dataframe tbody tr th:only-of-type {\n",
       "        vertical-align: middle;\n",
       "    }\n",
       "\n",
       "    .dataframe tbody tr th {\n",
       "        vertical-align: top;\n",
       "    }\n",
       "\n",
       "    .dataframe thead th {\n",
       "        text-align: right;\n",
       "    }\n",
       "</style>\n",
       "<table border=\"1\" class=\"dataframe\">\n",
       "  <thead>\n",
       "    <tr style=\"text-align: right;\">\n",
       "      <th></th>\n",
       "      <th>fear_greed</th>\n",
       "    </tr>\n",
       "  </thead>\n",
       "  <tbody>\n",
       "    <tr>\n",
       "      <th>2021-08-09</th>\n",
       "      <td>65</td>\n",
       "    </tr>\n",
       "    <tr>\n",
       "      <th>2021-08-08</th>\n",
       "      <td>74</td>\n",
       "    </tr>\n",
       "    <tr>\n",
       "      <th>2021-08-07</th>\n",
       "      <td>69</td>\n",
       "    </tr>\n",
       "    <tr>\n",
       "      <th>2021-08-06</th>\n",
       "      <td>52</td>\n",
       "    </tr>\n",
       "    <tr>\n",
       "      <th>2021-08-05</th>\n",
       "      <td>50</td>\n",
       "    </tr>\n",
       "    <tr>\n",
       "      <th>...</th>\n",
       "      <td>...</td>\n",
       "    </tr>\n",
       "    <tr>\n",
       "      <th>2018-02-05</th>\n",
       "      <td>11</td>\n",
       "    </tr>\n",
       "    <tr>\n",
       "      <th>2018-02-04</th>\n",
       "      <td>24</td>\n",
       "    </tr>\n",
       "    <tr>\n",
       "      <th>2018-02-03</th>\n",
       "      <td>40</td>\n",
       "    </tr>\n",
       "    <tr>\n",
       "      <th>2018-02-02</th>\n",
       "      <td>15</td>\n",
       "    </tr>\n",
       "    <tr>\n",
       "      <th>2018-02-01</th>\n",
       "      <td>30</td>\n",
       "    </tr>\n",
       "  </tbody>\n",
       "</table>\n",
       "<p>1283 rows × 1 columns</p>\n",
       "</div>"
      ],
      "text/plain": [
       "            fear_greed\n",
       "2021-08-09          65\n",
       "2021-08-08          74\n",
       "2021-08-07          69\n",
       "2021-08-06          52\n",
       "2021-08-05          50\n",
       "...                ...\n",
       "2018-02-05          11\n",
       "2018-02-04          24\n",
       "2018-02-03          40\n",
       "2018-02-02          15\n",
       "2018-02-01          30\n",
       "\n",
       "[1283 rows x 1 columns]"
      ]
     },
     "execution_count": 150,
     "metadata": {},
     "output_type": "execute_result"
    }
   ],
   "source": [
    "fg_values"
   ]
  },
  {
   "cell_type": "code",
   "execution_count": 151,
   "metadata": {},
   "outputs": [],
   "source": [
    "fg_values = pd.DataFrame()\n",
    "fg_values['fear_greed'] = [int(x['value']) for x in fg_data['data']]\n",
    "fg_values.index = [x['timestamp'] for x in fg_data['data']]\n",
    "fg_values.index = pd.to_datetime(fg_values.index, dayfirst=True)"
   ]
  },
  {
   "cell_type": "code",
   "execution_count": 152,
   "metadata": {},
   "outputs": [],
   "source": [
    "scaled_df_date = scaled_df.copy()\n",
    "scaled_df_date.index = scaled_df_date.index.date\n",
    "fg_df = scaled_df_date.join(fg_values)"
   ]
  },
  {
   "cell_type": "code",
   "execution_count": 153,
   "metadata": {},
   "outputs": [
    {
     "data": {
      "text/html": [
       "<div>\n",
       "<style scoped>\n",
       "    .dataframe tbody tr th:only-of-type {\n",
       "        vertical-align: middle;\n",
       "    }\n",
       "\n",
       "    .dataframe tbody tr th {\n",
       "        vertical-align: top;\n",
       "    }\n",
       "\n",
       "    .dataframe thead th {\n",
       "        text-align: right;\n",
       "    }\n",
       "</style>\n",
       "<table border=\"1\" class=\"dataframe\">\n",
       "  <thead>\n",
       "    <tr style=\"text-align: right;\">\n",
       "      <th></th>\n",
       "      <th>open</th>\n",
       "      <th>high</th>\n",
       "      <th>low</th>\n",
       "      <th>close</th>\n",
       "      <th>volume</th>\n",
       "      <th>ticker</th>\n",
       "      <th>avg</th>\n",
       "      <th>scaled</th>\n",
       "      <th>fear_greed</th>\n",
       "    </tr>\n",
       "  </thead>\n",
       "  <tbody>\n",
       "    <tr>\n",
       "      <th>2017-08-17</th>\n",
       "      <td>4261.48</td>\n",
       "      <td>4485.39</td>\n",
       "      <td>4200.74</td>\n",
       "      <td>4285.08</td>\n",
       "      <td>795.150377</td>\n",
       "      <td>btc</td>\n",
       "      <td>13954.322882</td>\n",
       "      <td>0.307079</td>\n",
       "      <td>NaN</td>\n",
       "    </tr>\n",
       "    <tr>\n",
       "      <th>2017-08-18</th>\n",
       "      <td>4285.08</td>\n",
       "      <td>4371.52</td>\n",
       "      <td>3938.77</td>\n",
       "      <td>4108.37</td>\n",
       "      <td>1199.888264</td>\n",
       "      <td>btc</td>\n",
       "      <td>13954.322882</td>\n",
       "      <td>0.294416</td>\n",
       "      <td>NaN</td>\n",
       "    </tr>\n",
       "    <tr>\n",
       "      <th>2017-08-19</th>\n",
       "      <td>4108.37</td>\n",
       "      <td>4184.69</td>\n",
       "      <td>3850.00</td>\n",
       "      <td>4139.98</td>\n",
       "      <td>381.309763</td>\n",
       "      <td>btc</td>\n",
       "      <td>13954.322882</td>\n",
       "      <td>0.296681</td>\n",
       "      <td>NaN</td>\n",
       "    </tr>\n",
       "    <tr>\n",
       "      <th>2017-08-20</th>\n",
       "      <td>4120.98</td>\n",
       "      <td>4211.08</td>\n",
       "      <td>4032.62</td>\n",
       "      <td>4086.29</td>\n",
       "      <td>467.083022</td>\n",
       "      <td>btc</td>\n",
       "      <td>13954.322882</td>\n",
       "      <td>0.292833</td>\n",
       "      <td>NaN</td>\n",
       "    </tr>\n",
       "    <tr>\n",
       "      <th>2017-08-21</th>\n",
       "      <td>4069.13</td>\n",
       "      <td>4119.62</td>\n",
       "      <td>3911.79</td>\n",
       "      <td>4016.00</td>\n",
       "      <td>691.743060</td>\n",
       "      <td>btc</td>\n",
       "      <td>13954.322882</td>\n",
       "      <td>0.287796</td>\n",
       "      <td>NaN</td>\n",
       "    </tr>\n",
       "    <tr>\n",
       "      <th>...</th>\n",
       "      <td>...</td>\n",
       "      <td>...</td>\n",
       "      <td>...</td>\n",
       "      <td>...</td>\n",
       "      <td>...</td>\n",
       "      <td>...</td>\n",
       "      <td>...</td>\n",
       "      <td>...</td>\n",
       "      <td>...</td>\n",
       "    </tr>\n",
       "    <tr>\n",
       "      <th>2021-08-05</th>\n",
       "      <td>39723.17</td>\n",
       "      <td>41350.00</td>\n",
       "      <td>37332.70</td>\n",
       "      <td>40862.46</td>\n",
       "      <td>84343.755621</td>\n",
       "      <td>btc</td>\n",
       "      <td>13954.322882</td>\n",
       "      <td>2.928301</td>\n",
       "      <td>50.0</td>\n",
       "    </tr>\n",
       "    <tr>\n",
       "      <th>2021-08-06</th>\n",
       "      <td>40862.46</td>\n",
       "      <td>43392.43</td>\n",
       "      <td>39853.86</td>\n",
       "      <td>42836.87</td>\n",
       "      <td>75753.941347</td>\n",
       "      <td>btc</td>\n",
       "      <td>13954.322882</td>\n",
       "      <td>3.069792</td>\n",
       "      <td>52.0</td>\n",
       "    </tr>\n",
       "    <tr>\n",
       "      <th>2021-08-07</th>\n",
       "      <td>42836.87</td>\n",
       "      <td>44700.00</td>\n",
       "      <td>42446.41</td>\n",
       "      <td>44572.54</td>\n",
       "      <td>73396.740808</td>\n",
       "      <td>btc</td>\n",
       "      <td>13954.322882</td>\n",
       "      <td>3.194174</td>\n",
       "      <td>69.0</td>\n",
       "    </tr>\n",
       "    <tr>\n",
       "      <th>2021-08-08</th>\n",
       "      <td>44572.54</td>\n",
       "      <td>45310.00</td>\n",
       "      <td>43261.00</td>\n",
       "      <td>43794.37</td>\n",
       "      <td>69329.092698</td>\n",
       "      <td>btc</td>\n",
       "      <td>13954.322882</td>\n",
       "      <td>3.138409</td>\n",
       "      <td>74.0</td>\n",
       "    </tr>\n",
       "    <tr>\n",
       "      <th>2021-08-09</th>\n",
       "      <td>43794.36</td>\n",
       "      <td>45850.00</td>\n",
       "      <td>42779.00</td>\n",
       "      <td>45569.02</td>\n",
       "      <td>31963.333704</td>\n",
       "      <td>btc</td>\n",
       "      <td>13954.322882</td>\n",
       "      <td>3.265584</td>\n",
       "      <td>65.0</td>\n",
       "    </tr>\n",
       "  </tbody>\n",
       "</table>\n",
       "<p>1454 rows × 9 columns</p>\n",
       "</div>"
      ],
      "text/plain": [
       "                open      high       low     close        volume ticker  \\\n",
       "2017-08-17   4261.48   4485.39   4200.74   4285.08    795.150377    btc   \n",
       "2017-08-18   4285.08   4371.52   3938.77   4108.37   1199.888264    btc   \n",
       "2017-08-19   4108.37   4184.69   3850.00   4139.98    381.309763    btc   \n",
       "2017-08-20   4120.98   4211.08   4032.62   4086.29    467.083022    btc   \n",
       "2017-08-21   4069.13   4119.62   3911.79   4016.00    691.743060    btc   \n",
       "...              ...       ...       ...       ...           ...    ...   \n",
       "2021-08-05  39723.17  41350.00  37332.70  40862.46  84343.755621    btc   \n",
       "2021-08-06  40862.46  43392.43  39853.86  42836.87  75753.941347    btc   \n",
       "2021-08-07  42836.87  44700.00  42446.41  44572.54  73396.740808    btc   \n",
       "2021-08-08  44572.54  45310.00  43261.00  43794.37  69329.092698    btc   \n",
       "2021-08-09  43794.36  45850.00  42779.00  45569.02  31963.333704    btc   \n",
       "\n",
       "                     avg    scaled  fear_greed  \n",
       "2017-08-17  13954.322882  0.307079         NaN  \n",
       "2017-08-18  13954.322882  0.294416         NaN  \n",
       "2017-08-19  13954.322882  0.296681         NaN  \n",
       "2017-08-20  13954.322882  0.292833         NaN  \n",
       "2017-08-21  13954.322882  0.287796         NaN  \n",
       "...                  ...       ...         ...  \n",
       "2021-08-05  13954.322882  2.928301        50.0  \n",
       "2021-08-06  13954.322882  3.069792        52.0  \n",
       "2021-08-07  13954.322882  3.194174        69.0  \n",
       "2021-08-08  13954.322882  3.138409        74.0  \n",
       "2021-08-09  13954.322882  3.265584        65.0  \n",
       "\n",
       "[1454 rows x 9 columns]"
      ]
     },
     "execution_count": 153,
     "metadata": {},
     "output_type": "execute_result"
    }
   ],
   "source": [
    "fg_df"
   ]
  },
  {
   "cell_type": "code",
   "execution_count": 154,
   "metadata": {
    "scrolled": false
   },
   "outputs": [
    {
     "data": {
      "image/png": "[encoded data removed]",
      "text/plain": [
       "<Figure size 936x360 with 2 Axes>"
      ]
     },
     "metadata": {
      "needs_background": "light"
     },
     "output_type": "display_data"
    }
   ],
   "source": [
    "fig,ax = plt.subplots(figsize=(13,5))\n",
    "ax.plot(fg_df[fg_df.ticker=='btc'].index, fg_df[fg_df.ticker=='btc'].fear_greed, color=\"red\")\n",
    "ax.set_xlabel(\"Date\",fontsize=14)\n",
    "ax.set_ylabel(\"Fear and Greed\", color=\"red\", fontsize=14)\n",
    "\n",
    "ax2 = ax.twinx()\n",
    "ax2.plot(fg_df[fg_df.ticker=='btc'].index, fg_df[fg_df.ticker=='btc'].close, color=\"blue\")\n",
    "ax2.set_ylabel(\"BTC Price\", color=\"blue\", fontsize=14)\n",
    "\n",
    "plt.title('Fear and greed')\n",
    "plt.grid()\n",
    "plt.show()"
   ]
  },
  {
   "cell_type": "code",
   "execution_count": 155,
   "metadata": {},
   "outputs": [],
   "source": [
    "# DCA which gives you the total amount invested over a time period and the average price you would have got\n",
    "class DCA:\n",
    "    def __init__(self, total, df, since=datetime.now() - timedelta(days=365*3)):\n",
    "        self.total = total\n",
    "        self.since=since\n",
    "        self.df = df\n",
    "    \n",
    "            \n",
    "    # Run the dca strategy with the parameters entered\n",
    "    def get_average(self, dollar_amount, freq, ticker, weighting=None):\n",
    "        prices, volumes, spent, break_flag = [], [], 0, False\n",
    "        \n",
    "        # Loop over every row\n",
    "        weight = 1\n",
    "        for i, row in enumerate(self.df[self.df.index > self.since].iterrows()):\n",
    "            \n",
    "            if weighting:\n",
    "                weight = row[1][weighting]\n",
    "            \n",
    "            \n",
    "            if i % freq == 0:\n",
    "                if spent + dollar_amount * weight >= self.total:\n",
    "                    \n",
    "                    leftover_dollar = self.total - spent\n",
    "                    volumes.append((leftover_dollar / row[1].open))\n",
    "                    prices.append(1*row[1].open)\n",
    "                    spent += leftover_dollar\n",
    "                    \n",
    "                    print('Maximum $%.2f invested on: %s' % (spent, row[0].strftime('%b %d %y')))\n",
    "                    break_flag = True\n",
    "                    \n",
    "                    break\n",
    "                    \n",
    "                volumes.append(dollar_amount * weight / row[1].open)\n",
    "                prices.append(1 * row[1].open)\n",
    "                spent += dollar_amount * weight\n",
    "                \n",
    "                \n",
    "#         avg_price = sum(prices) / len(prices)\n",
    "        \n",
    "#         print('DCA Price: $%.6f' % (avg_price))\n",
    "#         print('Spent:     $%.2f' % (spent))\n",
    "#         print('Leftover:  $%.2f' % (self.total - spent))\n",
    "#         print('Made:      $%.2f' % (sum(volumes) * (row[1].open - avg_price)))\n",
    "#         print('Amount:    %.6f %s\\n\\n' % (sum(volumes), ticker.upper()))\n",
    "\n",
    "        return volumes, spent, prices\n",
    "            \n",
    "    def get_length(self):\n",
    "        pass\n"
   ]
  },
  {
   "cell_type": "code",
   "execution_count": 156,
   "metadata": {},
   "outputs": [
    {
     "data": {
      "text/plain": [
       "45.420888542478565"
      ]
     },
     "execution_count": 156,
     "metadata": {},
     "output_type": "execute_result"
    }
   ],
   "source": [
    "fg_df.mean().fear_greed"
   ]
  },
  {
   "cell_type": "code",
   "execution_count": 40,
   "metadata": {},
   "outputs": [],
   "source": [
    "fg_w_df = fg_df.copy()"
   ]
  },
  {
   "cell_type": "code",
   "execution_count": 41,
   "metadata": {
    "scrolled": false
   },
   "outputs": [
    {
     "data": {
      "text/html": [
       "<div>\n",
       "<style scoped>\n",
       "    .dataframe tbody tr th:only-of-type {\n",
       "        vertical-align: middle;\n",
       "    }\n",
       "\n",
       "    .dataframe tbody tr th {\n",
       "        vertical-align: top;\n",
       "    }\n",
       "\n",
       "    .dataframe thead th {\n",
       "        text-align: right;\n",
       "    }\n",
       "</style>\n",
       "<table border=\"1\" class=\"dataframe\">\n",
       "  <thead>\n",
       "    <tr style=\"text-align: right;\">\n",
       "      <th></th>\n",
       "      <th>line</th>\n",
       "    </tr>\n",
       "  </thead>\n",
       "  <tbody>\n",
       "    <tr>\n",
       "      <th>0</th>\n",
       "      <td>0.0</td>\n",
       "    </tr>\n",
       "    <tr>\n",
       "      <th>1</th>\n",
       "      <td>1.0</td>\n",
       "    </tr>\n",
       "    <tr>\n",
       "      <th>2</th>\n",
       "      <td>2.0</td>\n",
       "    </tr>\n",
       "    <tr>\n",
       "      <th>3</th>\n",
       "      <td>3.0</td>\n",
       "    </tr>\n",
       "    <tr>\n",
       "      <th>4</th>\n",
       "      <td>4.0</td>\n",
       "    </tr>\n",
       "    <tr>\n",
       "      <th>...</th>\n",
       "      <td>...</td>\n",
       "    </tr>\n",
       "    <tr>\n",
       "      <th>96</th>\n",
       "      <td>96.0</td>\n",
       "    </tr>\n",
       "    <tr>\n",
       "      <th>97</th>\n",
       "      <td>97.0</td>\n",
       "    </tr>\n",
       "    <tr>\n",
       "      <th>98</th>\n",
       "      <td>98.0</td>\n",
       "    </tr>\n",
       "    <tr>\n",
       "      <th>99</th>\n",
       "      <td>99.0</td>\n",
       "    </tr>\n",
       "    <tr>\n",
       "      <th>100</th>\n",
       "      <td>100.0</td>\n",
       "    </tr>\n",
       "  </tbody>\n",
       "</table>\n",
       "<p>101 rows × 1 columns</p>\n",
       "</div>"
      ],
      "text/plain": [
       "      line\n",
       "0      0.0\n",
       "1      1.0\n",
       "2      2.0\n",
       "3      3.0\n",
       "4      4.0\n",
       "..     ...\n",
       "96    96.0\n",
       "97    97.0\n",
       "98    98.0\n",
       "99    99.0\n",
       "100  100.0\n",
       "\n",
       "[101 rows x 1 columns]"
      ]
     },
     "execution_count": 41,
     "metadata": {},
     "output_type": "execute_result"
    }
   ],
   "source": [
    "line = np.linspace(0,100,101)\n",
    "weight_df = pd.DataFrame(line, columns=['line'])\n",
    "weight_df.sort_values('line', ascending=False).reset_index(inplace=True)\n",
    "weight_df"
   ]
  },
  {
   "cell_type": "code",
   "execution_count": 42,
   "metadata": {},
   "outputs": [],
   "source": [
    "# Applies weighting to a df to plot it out\n",
    "def apply_weighting(df, weight_name, function, xlabel, replace=False):\n",
    "    \n",
    "    if weight_name in df.columns and not replace:\n",
    "        print('Weighting for %s already in df' % name)\n",
    "        return\n",
    "    \n",
    "    df[weight_name] = df.line.apply(function)\n",
    "    \n",
    "    plt.figure(figsize=(5,2))\n",
    "    plt.title(weight_name)\n",
    "    plt.xlabel(xlabel)\n",
    "    plt.ylabel('Relative Weight')\n",
    "    plt.plot(df[[weight_name]])\n",
    "    plt.grid()\n",
    "    plt.show()"
   ]
  },
  {
   "cell_type": "code",
   "execution_count": 43,
   "metadata": {},
   "outputs": [],
   "source": [
    "weight_dict = {}"
   ]
  },
  {
   "cell_type": "code",
   "execution_count": 44,
   "metadata": {},
   "outputs": [
    {
     "data": {
      "image/png": "[encoded data removed]",
      "text/plain": [
       "<Figure size 360x144 with 1 Axes>"
      ]
     },
     "metadata": {
      "needs_background": "light"
     },
     "output_type": "display_data"
    }
   ],
   "source": [
    "# Weight functions\n",
    "weight_name = 'Linear'\n",
    "weight_dict[weight_name] = linear_weight = lambda x : 2*(100-x)/100\n",
    "apply_weighting(weight_df, weight_name, linear_weight, 'Fear and Greed Index', replace=True)"
   ]
  },
  {
   "cell_type": "code",
   "execution_count": 45,
   "metadata": {},
   "outputs": [
    {
     "data": {
      "image/png": "[encoded data removed]",
      "text/plain": [
       "<Figure size 360x144 with 1 Axes>"
      ]
     },
     "metadata": {
      "needs_background": "light"
     },
     "output_type": "display_data"
    }
   ],
   "source": [
    "weight_name = 'Aggressive'\n",
    "weight_dict[weight_name] = agg_weight = lambda x : max(min(3*(100-x) / 100-0.5, 2), 0)\n",
    "apply_weighting(weight_df, weight_name, agg_weight, 'Fear and Greed Index', replace=True)"
   ]
  },
  {
   "cell_type": "code",
   "execution_count": 46,
   "metadata": {},
   "outputs": [
    {
     "data": {
      "image/png": "[encoded data removed]",
      "text/plain": [
       "<Figure size 360x144 with 1 Axes>"
      ]
     },
     "metadata": {
      "needs_background": "light"
     },
     "output_type": "display_data"
    }
   ],
   "source": [
    "weight_name = 'V_aggressive'\n",
    "weight_dict[weight_name] = agg_weight = lambda x : max(min(5*(100-x) / 100-1.5, 2), 0)\n",
    "apply_weighting(weight_df, weight_name, agg_weight, 'Fear and Greed Index', replace=True)"
   ]
  },
  {
   "cell_type": "code",
   "execution_count": 47,
   "metadata": {},
   "outputs": [
    {
     "data": {
      "image/png": "[encoded data removed]",
      "text/plain": [
       "<Figure size 360x144 with 1 Axes>"
      ]
     },
     "metadata": {
      "needs_background": "light"
     },
     "output_type": "display_data"
    }
   ],
   "source": [
    "weight_name = 'Vv_aggressive'\n",
    "weight_dict[weight_name] = agg_weight = lambda x : max(min(8*(100-x) / 100-3, 2), 0)\n",
    "apply_weighting(weight_df, weight_name, agg_weight, 'Fear and Greed Index', replace=True)"
   ]
  },
  {
   "cell_type": "code",
   "execution_count": 48,
   "metadata": {},
   "outputs": [
    {
     "data": {
      "image/png": "[encoded data removed]",
      "text/plain": [
       "<Figure size 360x144 with 1 Axes>"
      ]
     },
     "metadata": {
      "needs_background": "light"
     },
     "output_type": "display_data"
    }
   ],
   "source": [
    "weight_name = 'Logistic'\n",
    "weight_dict[weight_name] = agg_weight = lambda x : - 2 / (1 + np.exp(-0.1*(x-50))) + 2\n",
    "apply_weighting(weight_df, weight_name, agg_weight, 'Fear and Greed Index', replace=True)"
   ]
  },
  {
   "cell_type": "code",
   "execution_count": 80,
   "metadata": {},
   "outputs": [
    {
     "data": {
      "image/png": "[encoded data removed]",
      "text/plain": [
       "<Figure size 360x144 with 1 Axes>"
      ]
     },
     "metadata": {
      "needs_background": "light"
     },
     "output_type": "display_data"
    }
   ],
   "source": [
    "weight_name = 'Logistic_steep'\n",
    "weight_dict[weight_name] = agg_weight = lambda x : -2/(1+np.exp(-0.17*(x-50)))+2\n",
    "apply_weighting(weight_df, weight_name, agg_weight, 'Fear and Greed Index', replace=True)"
   ]
  },
  {
   "cell_type": "code",
   "execution_count": 74,
   "metadata": {},
   "outputs": [],
   "source": [
    "for weight_name, weight_func in weight_dict.items():\n",
    "    fg_w_df['fg_%s' % (weight_name)] =  fg_w_df.fear_greed.apply(weight_func)"
   ]
  },
  {
   "cell_type": "code",
   "execution_count": 75,
   "metadata": {
    "scrolled": false
   },
   "outputs": [
    {
     "name": "stdout",
     "output_type": "stream",
     "text": [
      "BTC \n",
      "\n",
      "Maximum $90000.00 invested on: Jan 25 21\n",
      "Regular DCA:    12.254233 BTC   $0.00 Leftover\n",
      "\n",
      "Maximum $90000.00 invested on: Sep 11 20\n",
      "Linear DCA:    14.010366 BTC    $0.00 Leftover\n",
      "\n",
      "Maximum $90000.00 invested on: Jun 20 20\n",
      "Aggressive DCA:    14.528843 BTC    $0.00 Leftover\n",
      "\n",
      "Maximum $90000.00 invested on: May 11 20\n",
      "V_aggressive DCA:    14.804183 BTC    $0.00 Leftover\n",
      "\n",
      "Maximum $90000.00 invested on: Apr 26 20\n",
      "Vv_aggressive DCA:    14.860771 BTC    $0.00 Leftover\n",
      "\n",
      "Maximum $90000.00 invested on: Jun 02 20\n",
      "Logistic DCA:    14.613445 BTC    $0.00 Leftover\n",
      "\n",
      "Maximum $90000.00 invested on: May 04 20\n",
      "Logistic_steep DCA:    14.812671 BTC    $0.00 Leftover\n",
      "\n",
      "\n",
      "\n",
      "\n"
     ]
    }
   ],
   "source": [
    "params = {\n",
    "          'amount':   90000,\n",
    "          'freq_d':   1,\n",
    "          'dollar':   100\n",
    "         }\n",
    "\n",
    "\n",
    "for ticker in all_tickers:\n",
    "    if ticker == 'btc':\n",
    "\n",
    "        print(ticker.upper(),'\\n')\n",
    "        this_df = fg_w_df[fg_w_df.ticker==ticker]\n",
    "\n",
    "        my_dca = DCA(params['amount'], this_df)\n",
    "\n",
    "        vols, spent, prices = my_dca.get_average(params['dollar'], params['freq_d'], ticker, )\n",
    "        print('Regular DCA:    %.6f %s   $%.2f Leftover\\n' % (sum(vols), ticker.upper(), params['amount'] - spent))\n",
    "\n",
    "        # Calculating the bought volume for the each\n",
    "        for weight_name in weight_dict:\n",
    "            vols, spent, prices = my_dca.get_average(params['dollar'], params['freq_d'], ticker, weighting='fg_%s'%(weight_name))\n",
    "            print('%s DCA:    %.6f %s    $%.2f Leftover\\n' % (weight_name, sum(vols), ticker.upper(), params['amount'] - spent))\n",
    "\n",
    "        print('\\n\\n')"
   ]
  },
  {
   "cell_type": "markdown",
   "metadata": {},
   "source": [
    "## Exponentially decreasing with price"
   ]
  },
  {
   "cell_type": "code",
   "execution_count": 76,
   "metadata": {},
   "outputs": [],
   "source": [
    "exp_df = fg_df.copy()"
   ]
  },
  {
   "cell_type": "code",
   "execution_count": 77,
   "metadata": {},
   "outputs": [],
   "source": [
    "max_price = 30000\n",
    "min_price = 1000\n",
    "aggression = 1\n",
    "expstr = 'exp_'"
   ]
  },
  {
   "cell_type": "code",
   "execution_count": 78,
   "metadata": {
    "scrolled": true
   },
   "outputs": [
    {
     "data": {
      "text/html": [
       "<div>\n",
       "<style scoped>\n",
       "    .dataframe tbody tr th:only-of-type {\n",
       "        vertical-align: middle;\n",
       "    }\n",
       "\n",
       "    .dataframe tbody tr th {\n",
       "        vertical-align: top;\n",
       "    }\n",
       "\n",
       "    .dataframe thead th {\n",
       "        text-align: right;\n",
       "    }\n",
       "</style>\n",
       "<table border=\"1\" class=\"dataframe\">\n",
       "  <thead>\n",
       "    <tr style=\"text-align: right;\">\n",
       "      <th></th>\n",
       "      <th>line</th>\n",
       "    </tr>\n",
       "    <tr>\n",
       "      <th>line</th>\n",
       "      <th></th>\n",
       "    </tr>\n",
       "  </thead>\n",
       "  <tbody>\n",
       "    <tr>\n",
       "      <th>1000.0</th>\n",
       "      <td>1000.0</td>\n",
       "    </tr>\n",
       "    <tr>\n",
       "      <th>1290.0</th>\n",
       "      <td>1290.0</td>\n",
       "    </tr>\n",
       "    <tr>\n",
       "      <th>1580.0</th>\n",
       "      <td>1580.0</td>\n",
       "    </tr>\n",
       "    <tr>\n",
       "      <th>1870.0</th>\n",
       "      <td>1870.0</td>\n",
       "    </tr>\n",
       "    <tr>\n",
       "      <th>2160.0</th>\n",
       "      <td>2160.0</td>\n",
       "    </tr>\n",
       "    <tr>\n",
       "      <th>...</th>\n",
       "      <td>...</td>\n",
       "    </tr>\n",
       "    <tr>\n",
       "      <th>28840.0</th>\n",
       "      <td>28840.0</td>\n",
       "    </tr>\n",
       "    <tr>\n",
       "      <th>29130.0</th>\n",
       "      <td>29130.0</td>\n",
       "    </tr>\n",
       "    <tr>\n",
       "      <th>29420.0</th>\n",
       "      <td>29420.0</td>\n",
       "    </tr>\n",
       "    <tr>\n",
       "      <th>29710.0</th>\n",
       "      <td>29710.0</td>\n",
       "    </tr>\n",
       "    <tr>\n",
       "      <th>30000.0</th>\n",
       "      <td>30000.0</td>\n",
       "    </tr>\n",
       "  </tbody>\n",
       "</table>\n",
       "<p>101 rows × 1 columns</p>\n",
       "</div>"
      ],
      "text/plain": [
       "            line\n",
       "line            \n",
       "1000.0    1000.0\n",
       "1290.0    1290.0\n",
       "1580.0    1580.0\n",
       "1870.0    1870.0\n",
       "2160.0    2160.0\n",
       "...          ...\n",
       "28840.0  28840.0\n",
       "29130.0  29130.0\n",
       "29420.0  29420.0\n",
       "29710.0  29710.0\n",
       "30000.0  30000.0\n",
       "\n",
       "[101 rows x 1 columns]"
      ]
     },
     "execution_count": 78,
     "metadata": {},
     "output_type": "execute_result"
    }
   ],
   "source": [
    "exp_dict = {}\n",
    "line = np.linspace(min_price, max_price, 101)\n",
    "\n",
    "exp_weight_df = pd.DataFrame(line, columns=['line'])\n",
    "exp_weight_df.sort_values('line',ascending=False).reset_index(inplace=True)\n",
    "exp_weight_df.index = exp_weight_df.line\n",
    "exp_weight_df"
   ]
  },
  {
   "cell_type": "code",
   "execution_count": 79,
   "metadata": {},
   "outputs": [
    {
     "data": {
      "image/png": "[encoded data removed]",
      "text/plain": [
       "<Figure size 360x144 with 1 Axes>"
      ]
     },
     "metadata": {
      "needs_background": "light"
     },
     "output_type": "display_data"
    }
   ],
   "source": [
    "weight_name = 'normal'\n",
    "# exp_dict[weight_name] = agg1 = lambda x : np.exp(-x/(max_price-min_price)*3+1.2)\n",
    "exp_dict[weight_name] = agg1 = lambda x : np.exp(-3*x/(max_price-min_price))+0.5\n",
    "apply_weighting(exp_weight_df, weight_name, agg1, 'Bitcoin Price', replace=True)"
   ]
  },
  {
   "cell_type": "code",
   "execution_count": 55,
   "metadata": {},
   "outputs": [],
   "source": [
    "for weight_name, weight_func in exp_dict.items():\n",
    "    exp_df['%s%s' % (expstr, weight_name)] =  exp_df.close.apply(weight_func)"
   ]
  },
  {
   "cell_type": "code",
   "execution_count": 56,
   "metadata": {
    "scrolled": false
   },
   "outputs": [
    {
     "name": "stdout",
     "output_type": "stream",
     "text": [
      "BTC \n",
      "\n",
      "Maximum $90000.00 invested on: Jan 25 21\n",
      "Regular DCA:    12.254233 BTC   $0.00 Leftover\n",
      "\n",
      "Maximum $90000.00 invested on: Jun 05 21\n",
      "normal DCA:    12.344670 BTC    $0.00 Leftover\n",
      "\n",
      "\n",
      "\n",
      "\n"
     ]
    }
   ],
   "source": [
    "params = {'amount':   90000,\n",
    "          'freq_d':   1,\n",
    "          'dollar':   100\n",
    "         }\n",
    "\n",
    "df = exp_df\n",
    "\n",
    "\n",
    "for ticker in all_tickers:\n",
    "    if ticker == 'btc':\n",
    "\n",
    "        print(ticker.upper(),'\\n')\n",
    "        this_df = df[df.ticker==ticker]\n",
    "\n",
    "        my_dca = DCA(params['amount'], this_df)\n",
    "\n",
    "\n",
    "        vols, spent, prices = my_dca.get_average(params['dollar'], params['freq_d'], ticker, )\n",
    "        print('Regular DCA:    %.6f %s   $%.2f Leftover\\n' % (sum(vols), ticker.upper(), params['amount'] - spent))\n",
    "\n",
    "        # Calculating the bought volume for the each\n",
    "        for weight_name in exp_dict:\n",
    "            vols, spent, prices = my_dca.get_average(params['dollar'], params['freq_d'], ticker, weighting='%s%s'%(expstr, weight_name))\n",
    "            print('%s DCA:    %.6f %s    $%.2f Leftover\\n' % (weight_name, sum(vols), ticker.upper(), params['amount'] - spent))\n",
    "\n",
    "        print('\\n\\n')"
   ]
  }
 ],
 "metadata": {
  "kernelspec": {
   "display_name": "venv",
   "language": "python",
   "name": "venv"
  },
  "language_info": {
   "codemirror_mode": {
    "name": "ipython",
    "version": 3
   },
   "file_extension": ".py",
   "mimetype": "text/x-python",
   "name": "python",
   "nbconvert_exporter": "python",
   "pygments_lexer": "ipython3",
   "version": "3.8.5"
  }
 },
 "nbformat": 4,
 "nbformat_minor": 4
}
